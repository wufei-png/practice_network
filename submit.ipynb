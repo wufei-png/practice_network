{
 "cells": [
  {
   "cell_type": "code",
   "execution_count": null,
   "id": "b7691629",
   "metadata": {},
   "outputs": [],
   "source": []
  },
  {
   "cell_type": "markdown",
   "id": "f4ec13ef",
   "metadata": {},
   "source": [
    "给定多个一维数据点，用不同结构的神经网络和超参数训练，画图显示每一种设定下的拟合结果\n",
    "\n",
    "* 模型：网络层数，每层宽度，激活函数（需要写出表达式）\n",
    "* 策略：损失函数（需要写出表达式），正则化项（可以没有）\n",
    "* 优化：优化算法（GD，SGD，Adam），学习率，网络参数的初始化（W和b的分布，均值，方差），epoch数量\n",
    "\n",
    "每次实验画出：\n",
    "\n",
    "* 所有数据点+网络初始函数曲线+训练结束后输出的函数曲线\n",
    "* 损失轨迹图（Loss vs Epoch）\n",
    "\n",
    "需要10组不同参数的实验，每组做4次"
   ]
  },
  {
   "cell_type": "code",
   "execution_count": null,
   "id": "308e59f6",
   "metadata": {},
   "outputs": [
    {
     "ename": "",
     "evalue": "",
     "output_type": "error",
     "traceback": [
      "\u001b[1;31mPython 3.6.13 64-bit ('fs': conda) 需要安装 ipykernel。\n",
      "Run the following command to install 'ipykernel' into the Python environment. \n",
      "Command: 'conda install -n fs ipykernel --update-deps --force-reinstall'"
     ]
    }
   ],
   "source": [
    "import numpy as np\n",
    "from matplotlib import pyplot as plt\n",
    "from matplotlib.colors import ListedColormap\n",
    "from sklearn.datasets import make_moons, make_circles, make_classification\n",
    "from sklearn.model_selection import train_test_split\n",
    "from torch.utils.data import TensorDataset, DataLoader\n",
    "from sklearn.preprocessing import MinMaxScaler\n",
    "import torch\n",
    "import torch.nn as nn\n",
    "import os\n",
    "import shutil\n",
    "\n",
    "plt.rcParams['font.sans-serif'] = ['simhei']  #用来正常显示中文标签\n",
    "plt.rcParams['axes.unicode_minus'] = False   #用来正常显示负号"
   ]
  },
  {
   "cell_type": "code",
   "execution_count": 2,
   "id": "4ff45262",
   "metadata": {},
   "outputs": [],
   "source": [
    "# 生成待拟合的一维数据点\n",
    "x = np.linspace(-1, 1, 100)\n",
    "\n",
    "# 可以选择拟合一个复杂多项式函数还是一个简单函数\n",
    "func = lambda x: 4.5*(x**5) + 8.5*(x**3) - 4*(x**2) -3*x\n",
    "# func = lambda x: 4.5*x + 2\n",
    "# func = lambda x: -4*(x**2) + 4.5*x + 2\n",
    "\n",
    "rng = np.random.RandomState(2)\n",
    "noise = rng.normal(loc=0, scale=.5, size=x.shape)\n",
    "y = func(x)"
   ]
  },
  {
   "cell_type": "code",
   "execution_count": 3,
   "id": "b0a95b0a",
   "metadata": {
    "scrolled": true
   },
   "outputs": [],
   "source": [
    "# 把x和y的值归一化道0到1的范围内\n",
    "scale_x = MinMaxScaler()\n",
    "x_scaled = scale_x.fit_transform(x.reshape(-1, 1))\n",
    "scale_y = MinMaxScaler()\n",
    "y_scaled = scale_y.fit_transform(y.reshape(-1, 1))"
   ]
  },
  {
   "cell_type": "code",
   "execution_count": 4,
   "id": "07921b2d",
   "metadata": {},
   "outputs": [
    {
     "name": "stderr",
     "output_type": "stream",
     "text": [
      "findfont: Font family ['sans-serif'] not found. Falling back to DejaVu Sans.\n",
      "findfont: Generic family 'sans-serif' not found because none of the following families were found: simhei\n",
      "findfont: Font family ['sans-serif'] not found. Falling back to DejaVu Sans.\n",
      "findfont: Generic family 'sans-serif' not found because none of the following families were found: simhei\n"
     ]
    },
    {
     "data": {
      "image/png": "[encoded data removed]",
      "text/plain": [
       "<Figure size 576x432 with 1 Axes>"
      ]
     },
     "metadata": {
      "needs_background": "light"
     },
     "output_type": "display_data"
    }
   ],
   "source": [
    "# 绘制数据点和原函数曲线\n",
    "plt.figure(figsize=(8, 6))\n",
    "plt.scatter(x, y+noise, label='OriginalNoisy', color='orange')\n",
    "plt.plot(x, y, label='Original', color='black')\n",
    "plt.title('Data points and the orignal function')\n",
    "plt.legend()\n",
    "plt.grid(True)\n",
    "plt.show()"
   ]
  },
  {
   "cell_type": "code",
   "execution_count": 5,
   "id": "ce20486c",
   "metadata": {},
   "outputs": [],
   "source": [
    "def build_linear(in_feat=1, out_feat=1, act='relu', init='normal'):\n",
    "    # 构建一层线性层\n",
    "    linear = nn.Linear(in_feat, out_feat)\n",
    "    # 设置权重初始化\n",
    "    nn.init.normal_(linear.weight, mean=0.0, std=1.0)\n",
    "    nn.init.constant_(linear.bias, val=0)\n",
    "    # 设置激活函数\n",
    "    if act is None:\n",
    "        return linear\n",
    "    if act == 'relu':\n",
    "        act_func = nn.ReLU()\n",
    "    elif act == 'sigmoid':\n",
    "        act_func = nn.Sigmoid()\n",
    "    elif act == 'tanh':\n",
    "        act_func = nn.Tanh()\n",
    "    else:\n",
    "        raise ValueError('Invalid act')\n",
    "    res = nn.Sequential(linear, act_func)\n",
    "    return res"
   ]
  },
  {
   "cell_type": "code",
   "execution_count": 6,
   "id": "0d0096db",
   "metadata": {},
   "outputs": [],
   "source": [
    "def build_nn(hidden_units=[1, 2, 2, 1], act='relu', init='normal'):\n",
    "    # 构建神经网络模型\n",
    "    assert len(hidden_units) >= 2 #输入层和输出层\n",
    "    layers = []\n",
    "    for i in range(len(hidden_units)-1):\n",
    "        if i == len(hidden_units)-2:\n",
    "            act = None # 最后一层不用激活函数\n",
    "        layers.append(build_linear(hidden_units[i], hidden_units[i+1], act, init))\n",
    "    res = nn.Sequential(*layers)\n",
    "    return res"
   ]
  },
  {
   "cell_type": "code",
   "execution_count": 7,
   "id": "9b7de74e",
   "metadata": {},
   "outputs": [],
   "source": [
    "def build_optim(optim, param, lr):\n",
    "    # 构建优化器\n",
    "    opt = None\n",
    "    if optim == 'sgd':\n",
    "        opt = torch.optim.SGD(param, lr=lr)\n",
    "    elif optim == 'adam':\n",
    "        opt = torch.optim.Adam(param, lr=lr)\n",
    "    elif optim == 'rmsprop':\n",
    "        opt = torch.optim.RMSprop(param, lr=lr)\n",
    "    else:\n",
    "        raise ValueError(\"Invalid optim\")\n",
    "    return opt"
   ]
  },
  {
   "cell_type": "code",
   "execution_count": 8,
   "id": "93cb04ad",
   "metadata": {},
   "outputs": [],
   "source": [
    "def build_loss(loss):\n",
    "    # 构建损失函数\n",
    "    if loss == 'mse':\n",
    "        return nn.MSELoss(reduction='sum')\n",
    "    else:\n",
    "        raise ValueError('Invalid loss type')"
   ]
  },
  {
   "cell_type": "code",
   "execution_count": 9,
   "id": "40ce5690",
   "metadata": {},
   "outputs": [],
   "source": [
    "def build_loader(x, y, batch_size):\n",
    "    # 构建数据加载器\n",
    "    count = x.shape[0]\n",
    "    x = torch.tensor(x).view(count, 1).float()\n",
    "    y = torch.tensor(y).view(count, 1).float()\n",
    "    ds = TensorDataset(x, y)\n",
    "    loader = DataLoader(ds, batch_size=batch_size, shuffle=True)\n",
    "    return loader"
   ]
  },
  {
   "cell_type": "code",
   "execution_count": 10,
   "id": "cbf24b35",
   "metadata": {},
   "outputs": [],
   "source": [
    "# 10种配置\n",
    "configs = dict()"
   ]
  },
  {
   "cell_type": "code",
   "execution_count": 11,
   "id": "162b6e78",
   "metadata": {},
   "outputs": [],
   "source": [
    "# 参数设置\n",
    "# 这个设置只有一个神经元，相当于一个线性分类器\n",
    "configs['config1'] = dict(\n",
    "    hidden_units = [1, 1],\n",
    "    act = 'sigmoid',\n",
    "    init = 'normal',\n",
    "    loss = 'mse',\n",
    "    reg = None,\n",
    "    optim = 'rmsprop',\n",
    "    lr = 1e-3,\n",
    "    epochs = 3000,\n",
    "    imgdir = 'config1'\n",
    ")"
   ]
  },
  {
   "cell_type": "code",
   "execution_count": 12,
   "id": "32525c2b",
   "metadata": {},
   "outputs": [],
   "source": [
    "# 参数设置\n",
    "# 添加一层神经网络\n",
    "configs['config2'] = dict(\n",
    "    hidden_units = [1, 2, 1],\n",
    "    act = 'sigmoid',\n",
    "    init = 'normal',\n",
    "    loss = 'mse',\n",
    "    reg = None,\n",
    "    optim = 'rmsprop',\n",
    "    lr = 1e-3,\n",
    "    epochs = 2000,\n",
    "    imgdir = 'config2'\n",
    ")"
   ]
  },
  {
   "cell_type": "code",
   "execution_count": 13,
   "id": "b0da60a3",
   "metadata": {},
   "outputs": [],
   "source": [
    "# 参数设置\n",
    "# 增加隐藏层神经元宽度到4\n",
    "configs['config3'] = dict(\n",
    "    hidden_units = [1, 4, 1],\n",
    "    act = 'sigmoid',\n",
    "    init = 'normal',\n",
    "    loss = 'mse',\n",
    "    reg = None,\n",
    "    optim = 'rmsprop',\n",
    "    lr = 1e-3,\n",
    "    epochs = 2000,\n",
    "    imgdir = 'config3'\n",
    ")"
   ]
  },
  {
   "cell_type": "code",
   "execution_count": 14,
   "id": "4f20a822",
   "metadata": {},
   "outputs": [],
   "source": [
    "# 参数设置\n",
    "# 增加隐藏层神经元宽度到8\n",
    "configs['config4'] = dict(\n",
    "    hidden_units = [1, 8, 1],\n",
    "    act = 'sigmoid',\n",
    "    init = 'normal',\n",
    "    loss = 'mse',\n",
    "    reg = None,\n",
    "    optim = 'rmsprop',\n",
    "    lr = 1e-3,\n",
    "    epochs = 2000,\n",
    "    imgdir = 'config4'\n",
    ")"
   ]
  },
  {
   "cell_type": "code",
   "execution_count": 15,
   "id": "b0841345",
   "metadata": {},
   "outputs": [],
   "source": [
    "# 参数设置\n",
    "# 增加神经网络的深度到2\n",
    "configs['config5'] = dict(\n",
    "    hidden_units = [1, 8, 8, 1],\n",
    "    act = 'sigmoid',\n",
    "    init = 'normal',\n",
    "    loss = 'mse',\n",
    "    reg = None,\n",
    "    optim = 'rmsprop',\n",
    "    lr = 1e-3,\n",
    "    epochs = 2000,\n",
    "    imgdir = 'config5'\n",
    ")"
   ]
  },
  {
   "cell_type": "code",
   "execution_count": 16,
   "id": "765f4023",
   "metadata": {},
   "outputs": [],
   "source": [
    "# 参数设置\n",
    "# 增加神经网络的深度到3\n",
    "configs['config6'] = dict(\n",
    "    hidden_units = [1, 8, 8, 8, 1],\n",
    "    act = 'sigmoid',\n",
    "    init = 'normal',\n",
    "    loss = 'mse',\n",
    "    reg = None,\n",
    "    optim = 'rmsprop',\n",
    "    lr = 1e-3,\n",
    "    epochs = 2000,\n",
    "    imgdir = 'config6'\n",
    ")"
   ]
  },
  {
   "cell_type": "code",
   "execution_count": 17,
   "id": "c7e52ee8",
   "metadata": {},
   "outputs": [],
   "source": [
    "# 参数设置\n",
    "# 增加神经网络的宽度到32\n",
    "configs['config7'] = dict(\n",
    "    hidden_units = [1, 32, 32, 32, 1],\n",
    "    act = 'sigmoid',\n",
    "    init = 'normal',\n",
    "    loss = 'mse',\n",
    "    reg = None,\n",
    "    optim = 'rmsprop',\n",
    "    lr = 1e-3,\n",
    "    epochs = 2000,\n",
    "    imgdir = 'config7'\n",
    ")"
   ]
  },
  {
   "cell_type": "code",
   "execution_count": 18,
   "id": "96f546ac",
   "metadata": {},
   "outputs": [],
   "source": [
    "# 参数设置\n",
    "# 一个非常深的神经网络和ReLU激活函数\n",
    "configs['config8'] = dict(\n",
    "    hidden_units = [1] + [16]*10 + [1],  #[1, 16, 16, 16, 16, 16, 16, 16, 16, 16, 16, 1]\n",
    "    act = 'relu',\n",
    "    init = 'normal',\n",
    "    loss = 'mse',\n",
    "    reg = None,\n",
    "    optim = 'rmsprop',\n",
    "    lr = 1e-3,\n",
    "    epochs = 2000,\n",
    "    imgdir = 'config8'\n",
    ")"
   ]
  },
  {
   "cell_type": "code",
   "execution_count": 19,
   "id": "18a34f43",
   "metadata": {},
   "outputs": [],
   "source": [
    "# 参数设置\n",
    "# 使用 rmsprop 优化器\n",
    "configs['config9'] = dict(\n",
    "    hidden_units = [1, 128, 128, 128, 1],\n",
    "    act = 'sigmoid',\n",
    "    init = 'normal',\n",
    "    loss = 'mse',\n",
    "    reg = None,\n",
    "    optim = 'rmsprop',\n",
    "    lr = 1e-3,\n",
    "    epochs = 2000,\n",
    "    imgdir = 'config9'\n",
    ")"
   ]
  },
  {
   "cell_type": "code",
   "execution_count": 20,
   "id": "7035c684",
   "metadata": {},
   "outputs": [],
   "source": [
    "# 参数设置\n",
    "# 使用 adam 优化器\n",
    "configs['config10'] = dict(\n",
    "    hidden_units = [1, 128, 128, 128, 1],\n",
    "    act = 'sigmoid',\n",
    "    init = 'normal',\n",
    "    loss = 'mse',\n",
    "    reg = None,\n",
    "    optim = 'adam',\n",
    "    lr = 1e-3,\n",
    "    epochs = 2000,\n",
    "    imgdir = 'config10'\n",
    ")"
   ]
  },
  {
   "cell_type": "code",
   "execution_count": null,
   "id": "a16cbca2",
   "metadata": {
    "scrolled": false
   },
   "outputs": [
    {
     "name": "stdout",
     "output_type": "stream",
     "text": [
      "第1次实验\n",
      "    配置参数类型config1\n",
      "{'hidden_units': [1, 1], 'act': 'sigmoid', 'init': 'normal', 'loss': 'mse', 'reg': None, 'optim': 'rmsprop', 'lr': 0.001, 'epochs': 3000, 'imgdir': 'config1'}\n",
      "    配置参数类型config2\n",
      "{'hidden_units': [1, 2, 1], 'act': 'sigmoid', 'init': 'normal', 'loss': 'mse', 'reg': None, 'optim': 'rmsprop', 'lr': 0.001, 'epochs': 2000, 'imgdir': 'config2'}\n",
      "    配置参数类型config3\n",
      "{'hidden_units': [1, 4, 1], 'act': 'sigmoid', 'init': 'normal', 'loss': 'mse', 'reg': None, 'optim': 'rmsprop', 'lr': 0.001, 'epochs': 2000, 'imgdir': 'config3'}\n",
      "    配置参数类型config4\n",
      "{'hidden_units': [1, 8, 1], 'act': 'sigmoid', 'init': 'normal', 'loss': 'mse', 'reg': None, 'optim': 'rmsprop', 'lr': 0.001, 'epochs': 2000, 'imgdir': 'config4'}\n",
      "    配置参数类型config5\n",
      "{'hidden_units': [1, 8, 8, 1], 'act': 'sigmoid', 'init': 'normal', 'loss': 'mse', 'reg': None, 'optim': 'rmsprop', 'lr': 0.001, 'epochs': 2000, 'imgdir': 'config5'}\n",
      "    配置参数类型config6\n",
      "{'hidden_units': [1, 8, 8, 8, 1], 'act': 'sigmoid', 'init': 'normal', 'loss': 'mse', 'reg': None, 'optim': 'rmsprop', 'lr': 0.001, 'epochs': 2000, 'imgdir': 'config6'}\n",
      "    配置参数类型config7\n",
      "{'hidden_units': [1, 32, 32, 32, 1], 'act': 'sigmoid', 'init': 'normal', 'loss': 'mse', 'reg': None, 'optim': 'rmsprop', 'lr': 0.001, 'epochs': 2000, 'imgdir': 'config7'}\n",
      "    配置参数类型config8\n",
      "{'hidden_units': [1, 16, 16, 16, 16, 16, 16, 16, 16, 16, 16, 1], 'act': 'relu', 'init': 'normal', 'loss': 'mse', 'reg': None, 'optim': 'rmsprop', 'lr': 0.001, 'epochs': 2000, 'imgdir': 'config8'}\n",
      "    配置参数类型config9\n",
      "{'hidden_units': [1, 128, 128, 128, 1], 'act': 'sigmoid', 'init': 'normal', 'loss': 'mse', 'reg': None, 'optim': 'rmsprop', 'lr': 0.001, 'epochs': 2000, 'imgdir': 'config9'}\n",
      "    配置参数类型config10\n",
      "{'hidden_units': [1, 128, 128, 128, 1], 'act': 'sigmoid', 'init': 'normal', 'loss': 'mse', 'reg': None, 'optim': 'adam', 'lr': 0.001, 'epochs': 2000, 'imgdir': 'config10'}\n",
      "第2次实验\n",
      "    配置参数类型config1\n",
      "{'hidden_units': [1, 1], 'act': 'sigmoid', 'init': 'normal', 'loss': 'mse', 'reg': None, 'optim': 'rmsprop', 'lr': 0.001, 'epochs': 3000, 'imgdir': 'config1'}\n"
     ]
    },
    {
     "name": "stderr",
     "output_type": "stream",
     "text": [
      "/home/lab2033/miniconda3/envs/pytorch/lib/python3.7/site-packages/ipykernel_launcher.py:29: RuntimeWarning: More than 20 figures have been opened. Figures created through the pyplot interface (`matplotlib.pyplot.figure`) are retained until explicitly closed and may consume too much memory. (To control this warning, see the rcParam `figure.max_open_warning`).\n"
     ]
    },
    {
     "name": "stdout",
     "output_type": "stream",
     "text": [
      "    配置参数类型config2\n",
      "{'hidden_units': [1, 2, 1], 'act': 'sigmoid', 'init': 'normal', 'loss': 'mse', 'reg': None, 'optim': 'rmsprop', 'lr': 0.001, 'epochs': 2000, 'imgdir': 'config2'}\n",
      "    配置参数类型config3\n",
      "{'hidden_units': [1, 4, 1], 'act': 'sigmoid', 'init': 'normal', 'loss': 'mse', 'reg': None, 'optim': 'rmsprop', 'lr': 0.001, 'epochs': 2000, 'imgdir': 'config3'}\n",
      "    配置参数类型config4\n",
      "{'hidden_units': [1, 8, 1], 'act': 'sigmoid', 'init': 'normal', 'loss': 'mse', 'reg': None, 'optim': 'rmsprop', 'lr': 0.001, 'epochs': 2000, 'imgdir': 'config4'}\n",
      "    配置参数类型config5\n",
      "{'hidden_units': [1, 8, 8, 1], 'act': 'sigmoid', 'init': 'normal', 'loss': 'mse', 'reg': None, 'optim': 'rmsprop', 'lr': 0.001, 'epochs': 2000, 'imgdir': 'config5'}\n",
      "    配置参数类型config6\n",
      "{'hidden_units': [1, 8, 8, 8, 1], 'act': 'sigmoid', 'init': 'normal', 'loss': 'mse', 'reg': None, 'optim': 'rmsprop', 'lr': 0.001, 'epochs': 2000, 'imgdir': 'config6'}\n",
      "    配置参数类型config7\n",
      "{'hidden_units': [1, 32, 32, 32, 1], 'act': 'sigmoid', 'init': 'normal', 'loss': 'mse', 'reg': None, 'optim': 'rmsprop', 'lr': 0.001, 'epochs': 2000, 'imgdir': 'config7'}\n",
      "    配置参数类型config8\n",
      "{'hidden_units': [1, 16, 16, 16, 16, 16, 16, 16, 16, 16, 16, 1], 'act': 'relu', 'init': 'normal', 'loss': 'mse', 'reg': None, 'optim': 'rmsprop', 'lr': 0.001, 'epochs': 2000, 'imgdir': 'config8'}\n",
      "    配置参数类型config9\n",
      "{'hidden_units': [1, 128, 128, 128, 1], 'act': 'sigmoid', 'init': 'normal', 'loss': 'mse', 'reg': None, 'optim': 'rmsprop', 'lr': 0.001, 'epochs': 2000, 'imgdir': 'config9'}\n",
      "    配置参数类型config10\n",
      "{'hidden_units': [1, 128, 128, 128, 1], 'act': 'sigmoid', 'init': 'normal', 'loss': 'mse', 'reg': None, 'optim': 'adam', 'lr': 0.001, 'epochs': 2000, 'imgdir': 'config10'}\n",
      "第3次实验\n",
      "    配置参数类型config1\n",
      "{'hidden_units': [1, 1], 'act': 'sigmoid', 'init': 'normal', 'loss': 'mse', 'reg': None, 'optim': 'rmsprop', 'lr': 0.001, 'epochs': 3000, 'imgdir': 'config1'}\n",
      "    配置参数类型config2\n",
      "{'hidden_units': [1, 2, 1], 'act': 'sigmoid', 'init': 'normal', 'loss': 'mse', 'reg': None, 'optim': 'rmsprop', 'lr': 0.001, 'epochs': 2000, 'imgdir': 'config2'}\n",
      "    配置参数类型config3\n",
      "{'hidden_units': [1, 4, 1], 'act': 'sigmoid', 'init': 'normal', 'loss': 'mse', 'reg': None, 'optim': 'rmsprop', 'lr': 0.001, 'epochs': 2000, 'imgdir': 'config3'}\n",
      "    配置参数类型config4\n",
      "{'hidden_units': [1, 8, 1], 'act': 'sigmoid', 'init': 'normal', 'loss': 'mse', 'reg': None, 'optim': 'rmsprop', 'lr': 0.001, 'epochs': 2000, 'imgdir': 'config4'}\n",
      "    配置参数类型config5\n",
      "{'hidden_units': [1, 8, 8, 1], 'act': 'sigmoid', 'init': 'normal', 'loss': 'mse', 'reg': None, 'optim': 'rmsprop', 'lr': 0.001, 'epochs': 2000, 'imgdir': 'config5'}\n",
      "    配置参数类型config6\n",
      "{'hidden_units': [1, 8, 8, 8, 1], 'act': 'sigmoid', 'init': 'normal', 'loss': 'mse', 'reg': None, 'optim': 'rmsprop', 'lr': 0.001, 'epochs': 2000, 'imgdir': 'config6'}\n",
      "    配置参数类型config7\n",
      "{'hidden_units': [1, 32, 32, 32, 1], 'act': 'sigmoid', 'init': 'normal', 'loss': 'mse', 'reg': None, 'optim': 'rmsprop', 'lr': 0.001, 'epochs': 2000, 'imgdir': 'config7'}\n"
     ]
    }
   ],
   "source": [
    "# 做4组实验\n",
    "for t in range(1, 1+4):\n",
    "    print(\"第{}次实验\".format(t))\n",
    "    for k, config in configs.items():\n",
    "        print(\"配置参数类型{}\".format(k))\n",
    "        print(config)\n",
    "        # 使用之前写好的函数创建模型，优化器，损失函数和数据加载器\n",
    "        model = build_nn(hidden_units=config['hidden_units'], act=config['act'], init=config['init'])\n",
    "\n",
    "        opt = build_optim(config['optim'], model.parameters(), config['lr'])\n",
    "\n",
    "        loss_fn = build_loss(config['loss'])\n",
    "\n",
    "        loader = build_loader(x_scaled, y_scaled, x_scaled.shape[0])\n",
    "\n",
    "        # 训练神经网络模型\n",
    "        loss_hist = []\n",
    "        for epoch in range(config['epochs']):\n",
    "            for i, (inp, tgt) in enumerate(loader):\n",
    "                out = model(inp)\n",
    "                loss = loss_fn(out, tgt)\n",
    "                opt.zero_grad()\n",
    "                loss.backward()\n",
    "                opt.step()\n",
    "                # print(f'loss: {loss.item()}')\n",
    "            loss_hist.append(loss.item())\n",
    "\n",
    "        # 绘制loss-epoch曲线\n",
    "        plt.figure(figsize=(8, 6))\n",
    "        plt.plot(loss_hist, color='green')\n",
    "        plt.xlabel('loss')\n",
    "        plt.ylabel('epoch')\n",
    "        plt.grid(True)\n",
    "        plt.title('Loss history')\n",
    "        os.makedirs(config['imgdir'], exist_ok=True)\n",
    "        plt.savefig('{}/loss_hist.svg'.format(config['imgdir']))\n",
    "        #plt.show()\n",
    "\n",
    "        # 使用训练好的模型预测结果\n",
    "        with torch.no_grad():\n",
    "            preds = model(torch.tensor(x_scaled).float())\n",
    "        preds = preds.numpy()\n",
    "        preds = scale_y.inverse_transform(preds)\n",
    "\n",
    "        # 绘制数据点和原函数曲线\n",
    "        plt.figure(figsize=(8, 6))\n",
    "        plt.scatter(x, y+noise, label='Original', color='orange')\n",
    "        plt.plot(x, y, label='Noisy', color='black')\n",
    "        plt.plot(x, preds, label='Prediction', color='blue')\n",
    "        plt.title('Data points, the orignal function, and the prediction')\n",
    "        plt.legend()\n",
    "        plt.grid(True)\n",
    "        plt.savefig('{}/fit_curve.svg'.format(config['imgdir']))\n",
    "        #plt.show()\n",
    "    os.makedirs('exp{}'.format(t))\n",
    "    for k in configs:\n",
    "        shutil.move(k, 'exp{}/'.format(t))"
   ]
  }
 ],
 "metadata": {
  "kernelspec": {
   "display_name": "Python 3",
   "language": "python",
   "name": "python3"
  },
  "language_info": {
   "codemirror_mode": {
    "name": "ipython",
    "version": 3
   },
   "file_extension": ".py",
   "mimetype": "text/x-python",
   "name": "python",
   "nbconvert_exporter": "python",
   "pygments_lexer": "ipython3",
   "version": "3.6.13"
  }
 },
 "nbformat": 4,
 "nbformat_minor": 5
}
